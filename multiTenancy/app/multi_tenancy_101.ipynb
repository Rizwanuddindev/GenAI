{
 "cells": [
  {
   "cell_type": "code",
   "execution_count": 1,
   "metadata": {},
   "outputs": [
    {
     "name": "stderr",
     "output_type": "stream",
     "text": [
      "/home/prince/Desktop/content/tutorials/multitenancy_qdrant/.venv/lib/python3.10/site-packages/tqdm/auto.py:21: TqdmWarning: IProgress not found. Please update jupyter and ipywidgets. See https://ipywidgets.readthedocs.io/en/stable/user_install.html\n",
      "  from .autonotebook import tqdm as notebook_tqdm\n"
     ]
    }
   ],
   "source": [
    "from datasets import load_dataset\n",
    "import pandas as pd\n",
    "\n",
    "data = load_dataset(\"MongoDB/embedded_movies\")\n",
    "df = pd.DataFrame(data[\"train\"])"
   ]
  },
  {
   "cell_type": "code",
   "execution_count": 2,
   "metadata": {},
   "outputs": [
    {
     "data": {
      "text/html": [
       "<div>\n",
       "<style scoped>\n",
       "    .dataframe tbody tr th:only-of-type {\n",
       "        vertical-align: middle;\n",
       "    }\n",
       "\n",
       "    .dataframe tbody tr th {\n",
       "        vertical-align: top;\n",
       "    }\n",
       "\n",
       "    .dataframe thead th {\n",
       "        text-align: right;\n",
       "    }\n",
       "</style>\n",
       "<table border=\"1\" class=\"dataframe\">\n",
       "  <thead>\n",
       "    <tr style=\"text-align: right;\">\n",
       "      <th></th>\n",
       "      <th>plot</th>\n",
       "      <th>num_mflix_comments</th>\n",
       "      <th>poster</th>\n",
       "      <th>title</th>\n",
       "      <th>cast</th>\n",
       "      <th>fullplot</th>\n",
       "      <th>directors</th>\n",
       "      <th>imdb</th>\n",
       "      <th>plot_embedding</th>\n",
       "      <th>metacritic</th>\n",
       "      <th>type</th>\n",
       "      <th>awards</th>\n",
       "      <th>rated</th>\n",
       "      <th>genres</th>\n",
       "      <th>runtime</th>\n",
       "      <th>countries</th>\n",
       "      <th>writers</th>\n",
       "      <th>languages</th>\n",
       "    </tr>\n",
       "  </thead>\n",
       "  <tbody>\n",
       "    <tr>\n",
       "      <th>0</th>\n",
       "      <td>Young Pauline is left a lot of money when her ...</td>\n",
       "      <td>0</td>\n",
       "      <td>https://m.media-amazon.com/images/M/MV5BMzgxOD...</td>\n",
       "      <td>The Perils of Pauline</td>\n",
       "      <td>[Pearl White, Crane Wilbur, Paul Panzer, Edwar...</td>\n",
       "      <td>Young Pauline is left a lot of money when her ...</td>\n",
       "      <td>[Louis J. Gasnier, Donald MacKenzie]</td>\n",
       "      <td>{'id': 4465, 'rating': 7.6, 'votes': 744}</td>\n",
       "      <td>[0.00072939653, -0.026834568, 0.013515796, -0....</td>\n",
       "      <td>NaN</td>\n",
       "      <td>movie</td>\n",
       "      <td>{'nominations': 0, 'text': '1 win.', 'wins': 1}</td>\n",
       "      <td>None</td>\n",
       "      <td>[Action]</td>\n",
       "      <td>199.0</td>\n",
       "      <td>[USA]</td>\n",
       "      <td>[Charles W. Goddard (screenplay), Basil Dickey...</td>\n",
       "      <td>[English]</td>\n",
       "    </tr>\n",
       "    <tr>\n",
       "      <th>1</th>\n",
       "      <td>A penniless young man tries to save an heiress...</td>\n",
       "      <td>0</td>\n",
       "      <td>https://m.media-amazon.com/images/M/MV5BNzE1OW...</td>\n",
       "      <td>From Hand to Mouth</td>\n",
       "      <td>[Harold Lloyd, Mildred Davis, 'Snub' Pollard, ...</td>\n",
       "      <td>As a penniless man worries about how he will m...</td>\n",
       "      <td>[Alfred J. Goulding, Hal Roach]</td>\n",
       "      <td>{'id': 10146, 'rating': 7.0, 'votes': 639}</td>\n",
       "      <td>[-0.022837115, -0.022941574, 0.014937485, -0.0...</td>\n",
       "      <td>NaN</td>\n",
       "      <td>movie</td>\n",
       "      <td>{'nominations': 1, 'text': '1 nomination.', 'w...</td>\n",
       "      <td>TV-G</td>\n",
       "      <td>[Comedy, Short, Action]</td>\n",
       "      <td>22.0</td>\n",
       "      <td>[USA]</td>\n",
       "      <td>[H.M. Walker (titles)]</td>\n",
       "      <td>[English]</td>\n",
       "    </tr>\n",
       "  </tbody>\n",
       "</table>\n",
       "</div>"
      ],
      "text/plain": [
       "                                                plot  num_mflix_comments  \\\n",
       "0  Young Pauline is left a lot of money when her ...                   0   \n",
       "1  A penniless young man tries to save an heiress...                   0   \n",
       "\n",
       "                                              poster                  title  \\\n",
       "0  https://m.media-amazon.com/images/M/MV5BMzgxOD...  The Perils of Pauline   \n",
       "1  https://m.media-amazon.com/images/M/MV5BNzE1OW...     From Hand to Mouth   \n",
       "\n",
       "                                                cast  \\\n",
       "0  [Pearl White, Crane Wilbur, Paul Panzer, Edwar...   \n",
       "1  [Harold Lloyd, Mildred Davis, 'Snub' Pollard, ...   \n",
       "\n",
       "                                            fullplot  \\\n",
       "0  Young Pauline is left a lot of money when her ...   \n",
       "1  As a penniless man worries about how he will m...   \n",
       "\n",
       "                              directors  \\\n",
       "0  [Louis J. Gasnier, Donald MacKenzie]   \n",
       "1       [Alfred J. Goulding, Hal Roach]   \n",
       "\n",
       "                                         imdb  \\\n",
       "0   {'id': 4465, 'rating': 7.6, 'votes': 744}   \n",
       "1  {'id': 10146, 'rating': 7.0, 'votes': 639}   \n",
       "\n",
       "                                      plot_embedding  metacritic   type  \\\n",
       "0  [0.00072939653, -0.026834568, 0.013515796, -0....         NaN  movie   \n",
       "1  [-0.022837115, -0.022941574, 0.014937485, -0.0...         NaN  movie   \n",
       "\n",
       "                                              awards rated  \\\n",
       "0    {'nominations': 0, 'text': '1 win.', 'wins': 1}  None   \n",
       "1  {'nominations': 1, 'text': '1 nomination.', 'w...  TV-G   \n",
       "\n",
       "                    genres  runtime countries  \\\n",
       "0                 [Action]    199.0     [USA]   \n",
       "1  [Comedy, Short, Action]     22.0     [USA]   \n",
       "\n",
       "                                             writers  languages  \n",
       "0  [Charles W. Goddard (screenplay), Basil Dickey...  [English]  \n",
       "1                             [H.M. Walker (titles)]  [English]  "
      ]
     },
     "execution_count": 2,
     "metadata": {},
     "output_type": "execute_result"
    }
   ],
   "source": [
    "df.head(2)"
   ]
  },
  {
   "cell_type": "code",
   "execution_count": 3,
   "metadata": {},
   "outputs": [
    {
     "data": {
      "text/html": [
       "<div>\n",
       "<style scoped>\n",
       "    .dataframe tbody tr th:only-of-type {\n",
       "        vertical-align: middle;\n",
       "    }\n",
       "\n",
       "    .dataframe tbody tr th {\n",
       "        vertical-align: top;\n",
       "    }\n",
       "\n",
       "    .dataframe thead th {\n",
       "        text-align: right;\n",
       "    }\n",
       "</style>\n",
       "<table border=\"1\" class=\"dataframe\">\n",
       "  <thead>\n",
       "    <tr style=\"text-align: right;\">\n",
       "      <th></th>\n",
       "      <th>plot</th>\n",
       "      <th>num_mflix_comments</th>\n",
       "      <th>poster</th>\n",
       "      <th>title</th>\n",
       "      <th>cast</th>\n",
       "      <th>fullplot</th>\n",
       "      <th>directors</th>\n",
       "      <th>imdb</th>\n",
       "      <th>embedding</th>\n",
       "      <th>metacritic</th>\n",
       "      <th>type</th>\n",
       "      <th>awards</th>\n",
       "      <th>rated</th>\n",
       "      <th>genres</th>\n",
       "      <th>runtime</th>\n",
       "      <th>countries</th>\n",
       "      <th>writers</th>\n",
       "      <th>languages</th>\n",
       "    </tr>\n",
       "  </thead>\n",
       "  <tbody>\n",
       "    <tr>\n",
       "      <th>0</th>\n",
       "      <td>Young Pauline is left a lot of money when her ...</td>\n",
       "      <td>0</td>\n",
       "      <td>https://m.media-amazon.com/images/M/MV5BMzgxOD...</td>\n",
       "      <td>The Perils of Pauline</td>\n",
       "      <td>[Pearl White, Crane Wilbur, Paul Panzer, Edwar...</td>\n",
       "      <td>Young Pauline is left a lot of money when her ...</td>\n",
       "      <td>[Louis J. Gasnier, Donald MacKenzie]</td>\n",
       "      <td>{'id': 4465, 'rating': 7.6, 'votes': 744}</td>\n",
       "      <td>[0.00072939653, -0.026834568, 0.013515796, -0....</td>\n",
       "      <td>NaN</td>\n",
       "      <td>movie</td>\n",
       "      <td>{'nominations': 0, 'text': '1 win.', 'wins': 1}</td>\n",
       "      <td>None</td>\n",
       "      <td>[Action]</td>\n",
       "      <td>199.0</td>\n",
       "      <td>[USA]</td>\n",
       "      <td>[Charles W. Goddard (screenplay), Basil Dickey...</td>\n",
       "      <td>[English]</td>\n",
       "    </tr>\n",
       "    <tr>\n",
       "      <th>1</th>\n",
       "      <td>A penniless young man tries to save an heiress...</td>\n",
       "      <td>0</td>\n",
       "      <td>https://m.media-amazon.com/images/M/MV5BNzE1OW...</td>\n",
       "      <td>From Hand to Mouth</td>\n",
       "      <td>[Harold Lloyd, Mildred Davis, 'Snub' Pollard, ...</td>\n",
       "      <td>As a penniless man worries about how he will m...</td>\n",
       "      <td>[Alfred J. Goulding, Hal Roach]</td>\n",
       "      <td>{'id': 10146, 'rating': 7.0, 'votes': 639}</td>\n",
       "      <td>[-0.022837115, -0.022941574, 0.014937485, -0.0...</td>\n",
       "      <td>NaN</td>\n",
       "      <td>movie</td>\n",
       "      <td>{'nominations': 1, 'text': '1 nomination.', 'w...</td>\n",
       "      <td>TV-G</td>\n",
       "      <td>[Comedy, Short, Action]</td>\n",
       "      <td>22.0</td>\n",
       "      <td>[USA]</td>\n",
       "      <td>[H.M. Walker (titles)]</td>\n",
       "      <td>[English]</td>\n",
       "    </tr>\n",
       "  </tbody>\n",
       "</table>\n",
       "</div>"
      ],
      "text/plain": [
       "                                                plot  num_mflix_comments  \\\n",
       "0  Young Pauline is left a lot of money when her ...                   0   \n",
       "1  A penniless young man tries to save an heiress...                   0   \n",
       "\n",
       "                                              poster                  title  \\\n",
       "0  https://m.media-amazon.com/images/M/MV5BMzgxOD...  The Perils of Pauline   \n",
       "1  https://m.media-amazon.com/images/M/MV5BNzE1OW...     From Hand to Mouth   \n",
       "\n",
       "                                                cast  \\\n",
       "0  [Pearl White, Crane Wilbur, Paul Panzer, Edwar...   \n",
       "1  [Harold Lloyd, Mildred Davis, 'Snub' Pollard, ...   \n",
       "\n",
       "                                            fullplot  \\\n",
       "0  Young Pauline is left a lot of money when her ...   \n",
       "1  As a penniless man worries about how he will m...   \n",
       "\n",
       "                              directors  \\\n",
       "0  [Louis J. Gasnier, Donald MacKenzie]   \n",
       "1       [Alfred J. Goulding, Hal Roach]   \n",
       "\n",
       "                                         imdb  \\\n",
       "0   {'id': 4465, 'rating': 7.6, 'votes': 744}   \n",
       "1  {'id': 10146, 'rating': 7.0, 'votes': 639}   \n",
       "\n",
       "                                           embedding  metacritic   type  \\\n",
       "0  [0.00072939653, -0.026834568, 0.013515796, -0....         NaN  movie   \n",
       "1  [-0.022837115, -0.022941574, 0.014937485, -0.0...         NaN  movie   \n",
       "\n",
       "                                              awards rated  \\\n",
       "0    {'nominations': 0, 'text': '1 win.', 'wins': 1}  None   \n",
       "1  {'nominations': 1, 'text': '1 nomination.', 'w...  TV-G   \n",
       "\n",
       "                    genres  runtime countries  \\\n",
       "0                 [Action]    199.0     [USA]   \n",
       "1  [Comedy, Short, Action]     22.0     [USA]   \n",
       "\n",
       "                                             writers  languages  \n",
       "0  [Charles W. Goddard (screenplay), Basil Dickey...  [English]  \n",
       "1                             [H.M. Walker (titles)]  [English]  "
      ]
     },
     "execution_count": 3,
     "metadata": {},
     "output_type": "execute_result"
    }
   ],
   "source": [
    "# Only keep records where the fullplot field is not null\n",
    "df = df[df[\"fullplot\"].notna()]\n",
    "df = df[df[\"plot_embedding\"].notna()]\n",
    "\n",
    "# Renaming the embedding field to \"embedding\" -- required by LangChain\n",
    "df.rename(columns={\"plot_embedding\": \"embedding\"}, inplace=True)\n",
    "\n",
    "df.head(2)"
   ]
  },
  {
   "cell_type": "code",
   "execution_count": 4,
   "metadata": {},
   "outputs": [
    {
     "data": {
      "text/plain": [
       "plot                    0\n",
       "num_mflix_comments      0\n",
       "poster                 78\n",
       "title                   0\n",
       "cast                    1\n",
       "fullplot                0\n",
       "directors              12\n",
       "imdb                    0\n",
       "embedding               0\n",
       "metacritic            893\n",
       "type                    0\n",
       "awards                  0\n",
       "rated                 279\n",
       "genres                  0\n",
       "runtime                14\n",
       "countries               0\n",
       "writers                13\n",
       "languages               1\n",
       "dtype: int64"
      ]
     },
     "execution_count": 4,
     "metadata": {},
     "output_type": "execute_result"
    }
   ],
   "source": [
    "df.isna().sum()"
   ]
  },
  {
   "cell_type": "code",
   "execution_count": 5,
   "metadata": {},
   "outputs": [
    {
     "data": {
      "text/plain": [
       "(1451, 18)"
      ]
     },
     "execution_count": 5,
     "metadata": {},
     "output_type": "execute_result"
    }
   ],
   "source": [
    "df.shape"
   ]
  },
  {
   "cell_type": "code",
   "execution_count": 6,
   "metadata": {},
   "outputs": [
    {
     "data": {
      "text/plain": [
       "1536"
      ]
     },
     "execution_count": 6,
     "metadata": {},
     "output_type": "execute_result"
    }
   ],
   "source": [
    "len(df[\"embedding\"][0])"
   ]
  },
  {
   "cell_type": "code",
   "execution_count": 7,
   "metadata": {},
   "outputs": [
    {
     "data": {
      "text/plain": [
       "plot                  This film takes a serious look at the lives of...\n",
       "num_mflix_comments                                                    0\n",
       "poster                https://m.media-amazon.com/images/M/MV5BNTczMz...\n",
       "title                                                            Pardes\n",
       "cast                  [Shah Rukh Khan, Amrish Puri, Mahima Chaudhry,...\n",
       "fullplot              This film takes a serious look at the lives of...\n",
       "directors                                                [Subhash Ghai]\n",
       "imdb                       {'id': 119861, 'rating': 7.0, 'votes': 7371}\n",
       "embedding             [0.01154842, -0.013503601, 0.0062308703, -0.01...\n",
       "metacritic                                                          NaN\n",
       "type                                                              movie\n",
       "awards                 {'nominations': 0, 'text': '3 wins.', 'wins': 3}\n",
       "rated                                                              None\n",
       "genres                                       [Musical, Romance, Action]\n",
       "runtime                                                           191.0\n",
       "countries                                                       [India]\n",
       "writers               [Subhash Ghai (screenplay), Subhash Ghai (stor...\n",
       "languages                                                       [Hindi]\n",
       "dataset                                       mongoDB_embedded_movies_1\n",
       "Name: 747, dtype: object"
      ]
     },
     "execution_count": 7,
     "metadata": {},
     "output_type": "execute_result"
    }
   ],
   "source": [
    "df[\"dataset\"] = \"mongoDB_embedded_movies_1\"\n",
    "df.iloc[725]"
   ]
  },
  {
   "cell_type": "code",
   "execution_count": 8,
   "metadata": {},
   "outputs": [
    {
     "name": "stderr",
     "output_type": "stream",
     "text": [
      "/tmp/ipykernel_529084/2601571799.py:1: FutureWarning: ChainedAssignmentError: behaviour will change in pandas 3.0!\n",
      "You are setting values through chained assignment. Currently this works in certain cases, but when using Copy-on-Write (which will become the default behaviour in pandas 3.0) this will never work to update the original DataFrame or Series, because the intermediate object on which we are setting values will behave as a copy.\n",
      "A typical example is when you are setting values in a column of a DataFrame, like:\n",
      "\n",
      "df[\"col\"][row_indexer] = value\n",
      "\n",
      "Use `df.loc[row_indexer, \"col\"] = values` instead, to perform the assignment in a single step and ensure this keeps updating the original `df`.\n",
      "\n",
      "See the caveats in the documentation: https://pandas.pydata.org/pandas-docs/stable/user_guide/indexing.html#returning-a-view-versus-a-copy\n",
      "\n",
      "  df[\"dataset\"][726:] = \"mongoDB_embedded_movies_2\"\n",
      "/tmp/ipykernel_529084/2601571799.py:1: SettingWithCopyWarning: \n",
      "A value is trying to be set on a copy of a slice from a DataFrame\n",
      "\n",
      "See the caveats in the documentation: https://pandas.pydata.org/pandas-docs/stable/user_guide/indexing.html#returning-a-view-versus-a-copy\n",
      "  df[\"dataset\"][726:] = \"mongoDB_embedded_movies_2\"\n"
     ]
    },
    {
     "data": {
      "text/plain": [
       "plot                  A psychotic criminal couple kidnaps a random t...\n",
       "num_mflix_comments                                                    1\n",
       "poster                https://m.media-amazon.com/images/M/MV5BYjVlMm...\n",
       "title                                              Dance with the Devil\n",
       "cast                  [Rosie Perez, Javier Bardem, Harley Cross, Aim...\n",
       "fullplot              Rough girl Perdita and her demonic lover Romeo...\n",
       "directors                                          [èlex de la Iglesia]\n",
       "imdb                       {'id': 119879, 'rating': 6.3, 'votes': 6213}\n",
       "embedding             [-0.010595799, -0.027070895, 0.015011804, -0.0...\n",
       "metacritic                                                          NaN\n",
       "type                                                              movie\n",
       "awards                {'nominations': 5, 'text': '6 wins & 5 nominat...\n",
       "rated                                                                 R\n",
       "genres                                          [Action, Crime, Horror]\n",
       "runtime                                                           126.0\n",
       "countries                                          [Mexico, USA, Spain]\n",
       "writers               [Barry Gifford (novel), Barry Gifford (screenp...\n",
       "languages                                            [English, Spanish]\n",
       "dataset                                       mongoDB_embedded_movies_2\n",
       "Name: 749, dtype: object"
      ]
     },
     "execution_count": 8,
     "metadata": {},
     "output_type": "execute_result"
    }
   ],
   "source": [
    "df[\"dataset\"][726:] = \"mongoDB_embedded_movies_2\"\n",
    "df.iloc[727]"
   ]
  },
  {
   "cell_type": "markdown",
   "metadata": {},
   "source": [
    "### Creating Collection"
   ]
  },
  {
   "cell_type": "code",
   "execution_count": 13,
   "metadata": {},
   "outputs": [],
   "source": [
    "from qdrant_client import QdrantClient, models\n",
    "from qdrant_client.models import Distance, VectorParams\n",
    "\n",
    "client = QdrantClient(location=\"http://localhost:6333\")"
   ]
  },
  {
   "cell_type": "code",
   "execution_count": 14,
   "metadata": {},
   "outputs": [
    {
     "data": {
      "text/plain": [
       "True"
      ]
     },
     "execution_count": 14,
     "metadata": {},
     "output_type": "execute_result"
    }
   ],
   "source": [
    "vector_config = {\n",
    "    \"plot_embedding\": VectorParams(\n",
    "        distance=Distance.COSINE,\n",
    "        size=len(df[\"embedding\"][0])\n",
    "    )\n",
    "}\n",
    "\n",
    "client.recreate_collection(\n",
    "    collection_name=\"mongoDB_embedded_movies_collection\",\n",
    "    vectors_config=vector_config,\n",
    "    # This is to enable parallelism, between 2-4 is okay\n",
    "    shard_number=2,\n",
    ")"
   ]
  },
  {
   "cell_type": "code",
   "execution_count": 15,
   "metadata": {},
   "outputs": [
    {
     "data": {
      "text/plain": [
       "Index(['plot', 'num_mflix_comments', 'poster', 'title', 'cast', 'fullplot',\n",
       "       'directors', 'imdb', 'embedding', 'metacritic', 'type', 'awards',\n",
       "       'rated', 'genres', 'runtime', 'countries', 'writers', 'languages',\n",
       "       'dataset'],\n",
       "      dtype='object')"
      ]
     },
     "execution_count": 15,
     "metadata": {},
     "output_type": "execute_result"
    }
   ],
   "source": [
    "df.columns"
   ]
  },
  {
   "cell_type": "code",
   "execution_count": 16,
   "metadata": {},
   "outputs": [],
   "source": [
    "columns_of_interest = ['plot', 'poster', \n",
    "                       'title', 'fullplot', \n",
    "                       'dataset', 'languages',\n",
    "                       'cast', 'countries',\n",
    "                       'writers', 'awards',\n",
    "                       'genres', 'directors',\n",
    "                       'num_mflix_comments', 'imdb'\n",
    "]"
   ]
  },
  {
   "cell_type": "code",
   "execution_count": null,
   "metadata": {},
   "outputs": [],
   "source": [
    "df[columns_of_interest].to_dict()"
   ]
  },
  {
   "cell_type": "code",
   "execution_count": null,
   "metadata": {},
   "outputs": [],
   "source": [
    "for id, df_vector in df.iterrows():\n",
    "    print(df_vector[columns_of_interest].to_dict())"
   ]
  },
  {
   "cell_type": "code",
   "execution_count": null,
   "metadata": {},
   "outputs": [],
   "source": [
    "for id, df_vector in df.iterrows():\n",
    "    print(df_vector[\"embedding\"])"
   ]
  },
  {
   "cell_type": "code",
   "execution_count": 20,
   "metadata": {},
   "outputs": [],
   "source": [
    "from qdrant_client.models import PointStruct"
   ]
  },
  {
   "cell_type": "code",
   "execution_count": 21,
   "metadata": {},
   "outputs": [
    {
     "data": {
      "text/plain": [
       "UpdateResult(operation_id=0, status=<UpdateStatus.COMPLETED: 'completed'>)"
      ]
     },
     "execution_count": 21,
     "metadata": {},
     "output_type": "execute_result"
    }
   ],
   "source": [
    "client.upsert(\n",
    "    collection_name=\"mongoDB_embedded_movies_collection\",\n",
    "    points=[\n",
    "        PointStruct(\n",
    "            id=id,\n",
    "            vector={\n",
    "                \"plot_embedding\": df_vector[\"embedding\"]\n",
    "            },\n",
    "            payload=df_vector[columns_of_interest].to_dict()\n",
    "        )\n",
    "        # index, Series\n",
    "        for id, df_vector in df.iterrows()\n",
    "    ]\n",
    ")"
   ]
  },
  {
   "cell_type": "markdown",
   "metadata": {},
   "source": [
    "### Cosine Similarity Search"
   ]
  },
  {
   "cell_type": "code",
   "execution_count": 24,
   "metadata": {},
   "outputs": [
    {
     "name": "stdout",
     "output_type": "stream",
     "text": [
      "The dotenv extension is already loaded. To reload it, use:\n",
      "  %reload_ext dotenv\n"
     ]
    }
   ],
   "source": [
    "import os\n",
    "import dotenv\n",
    "%load_ext dotenv\n",
    "%dotenv\n",
    "\n",
    "# reload .env if needed\n",
    "%reload_ext dotenv"
   ]
  },
  {
   "cell_type": "code",
   "execution_count": 23,
   "metadata": {},
   "outputs": [],
   "source": [
    "from langchain_openai import OpenAIEmbeddings\n",
    "\n",
    "embeddings = OpenAIEmbeddings()\n",
    "query = \"Movies with imdb rating of 6.3 and genre of action\"\n",
    "query_vector = embeddings.embed_query(query)"
   ]
  },
  {
   "cell_type": "code",
   "execution_count": 25,
   "metadata": {},
   "outputs": [
    {
     "data": {
      "text/plain": [
       "[ScoredPoint(id=1332, version=0, score=0.8377626, payload={'awards': {'nominations': 1, 'text': '1 nomination.', 'wins': 0}, 'cast': ['Abhishek Bachchan', 'Bhoomika Chawla', 'Mahesh Manjrekar', 'Vijay Raaz'], 'countries': ['India'], 'dataset': 'mongoDB_embedded_movies_2', 'directors': ['Jeeva'], 'fullplot': 'Jhanvi Choudhry wants to shape her own destiny by marrying the man of her dreams, Siddharth who wholeheartedly loves her - but her wealthy and influential family will not permit her to marry Siddharth and instead deals with this situation violently by openly threatens and attempt to kill Siddharth on numerous occasions.', 'genres': ['Action', 'Comedy', 'Romance'], 'imdb': {'id': 411815, 'rating': 4.8, 'votes': 940}, 'languages': ['Hindi'], 'num_mflix_comments': 0, 'plot': 'This action movie is filled with romance and adventure. As Abhisek fights for his life against the forces of crime and injustice, he meets Bhoomika, who captures his heart.', 'poster': 'https://m.media-amazon.com/images/M/MV5BYzI4MGIyNDEtMmZiOS00NWVmLThmNGYtMjQ1YWIxODUxMjg1XkEyXkFqcGdeQXVyODE5NzE3OTE@._V1_SY1000_SX677_AL_.jpg', 'title': 'Run', 'writers': ['N. Linguswamy (story)', 'N. Linguswamy (screenplay)', 'Kamal Pandey (dialogue)']}, vector=None, shard_key=None),\n",
       " ScoredPoint(id=953, version=0, score=0.82931304, payload={'awards': {'nominations': 8, 'text': '8 nominations.', 'wins': 0}, 'cast': ['Arnold Schwarzenegger', 'Michael Rapaport', 'Tony Goldwyn', 'Michael Rooker'], 'countries': ['USA'], 'dataset': 'mongoDB_embedded_movies_2', 'directors': ['Roger Spottiswoode'], 'fullplot': \"In the near future, cloning is now technically advanced, but human cloning is still illegal. Adam Gibson (Schwarzenegger) returns home after working with his friend Hank Morgan (Rapaport), only to find a clone of himself with his family. Before he has chance to find out the truth, he is attacked by a group who want him dead. Adam must escape and find out the truth from the creator of the clones, Michael Drucker (Goldwyn). Adam knows for sure he couldn't have been cloned, but isn't ready for what he's about to hear.\", 'genres': ['Action', 'Mystery', 'Sci-Fi'], 'imdb': {'id': 216216, 'rating': 5.9, 'votes': 94874}, 'languages': ['English'], 'num_mflix_comments': 2, 'plot': 'Futuristic action about a man who meets a clone of himself and stumbles into a grand conspiracy about clones taking over the world.', 'poster': 'https://m.media-amazon.com/images/M/MV5BMTk1OTU5OTU2MV5BMl5BanBnXkFtZTYwMjMxMDk2._V1_SY1000_SX677_AL_.jpg', 'title': 'The 6th Day', 'writers': ['Cormac Wibberley', 'Marianne Wibberley']}, vector=None, shard_key=None),\n",
       " ScoredPoint(id=1110, version=0, score=0.82740855, payload={'awards': {'nominations': 0, 'text': '2 wins.', 'wins': 2}, 'cast': ['Phil Caracas', 'Murielle Varhelyi', 'Maria Moulton', 'Tim Devries'], 'countries': ['Canada'], 'dataset': 'mongoDB_embedded_movies_2', 'directors': ['Lee Demarbre'], 'fullplot': 'The first testament says \"an eye for an eye.\" The second testament says \"love thy neighbour.\" The third testament KICKS ASS! The filmmaking team that brought you Harry Knuckles and won the \"Spirit of Slamdance\" prize with Harry Knuckles and the Treasure of the Aztec Mummy ups the ante with this tale of the ultimate action hero: Jesus Christ. The second coming is upon us, and Jesus has returned to earth. But before he can get down to the serious business of judging the living and the dead, he has to contend with an army of vampires that can walk in the daylight. Combining kung-fu action with biblical prophecy and a liberal dose of humour, the film teams the Savior with Mexican wrestling hero El Santos against mythological horrors and science gone mad, and also manages to address contemporary sexual politics. And did we mention that it\\'s a musical? This sure ain\\'t Sunday School.', 'genres': ['Action', 'Comedy', 'Horror'], 'imdb': {'id': 311361, 'rating': 5.2, 'votes': 3442}, 'languages': ['English'], 'num_mflix_comments': 2, 'plot': 'Kung-Fu Action / Comedy / Horror / Musical about the second coming.', 'poster': 'https://m.media-amazon.com/images/M/MV5BMTcwMjY5NzY4OV5BMl5BanBnXkFtZTcwNTk5NjAwMQ@@._V1_SY1000_SX677_AL_.jpg', 'title': 'Jesus Christ Vampire Hunter', 'writers': ['Ian Driscoll']}, vector=None, shard_key=None),\n",
       " ScoredPoint(id=1091, version=0, score=0.82051414, payload={'awards': {'nominations': 3, 'text': '3 nominations.', 'wins': 0}, 'cast': ['Steven Seagal', 'Morris Chestnut', 'Ja Rule', 'Nia Peeples'], 'countries': ['Germany', 'USA'], 'dataset': 'mongoDB_embedded_movies_2', 'directors': ['Don Michael Paul'], 'fullplot': \"A criminal mastermind has set in motion a plan to infiltrate a high tech prison in order to persuade a death row inmate to reveal the whereabouts of $200 million worth of gold. It's up to an undercover FBI agent to stop him before it's too late.\", 'genres': ['Action', 'Crime', 'Thriller'], 'imdb': {'id': 297162, 'rating': 4.5, 'votes': 11796}, 'languages': ['English'], 'num_mflix_comments': 0, 'plot': 'This movie tells the story of a man who goes undercover in a hi-tech prison to find out information to help prosecute those who killed his wife. While there he stumbles onto a plot involving a death-row inmate and his $200 million stash of gold.', 'poster': 'https://m.media-amazon.com/images/M/MV5BNjJhOTVlNzMtODIwZi00NTI0LTkxNzUtNDczYjgyN2YzODkxXkEyXkFqcGdeQXVyNjQ2MjQ5NzM@._V1_SY1000_SX677_AL_.jpg', 'title': 'Half Past Dead', 'writers': ['Don Michael Paul']}, vector=None, shard_key=None),\n",
       " ScoredPoint(id=860, version=0, score=0.8204253, payload={'awards': {'nominations': 27, 'text': '12 wins & 27 nominations.', 'wins': 12}, 'cast': ['Cameron Diaz', 'Drew Barrymore', 'Lucy Liu', 'Bill Murray'], 'countries': ['USA', 'Germany'], 'dataset': 'mongoDB_embedded_movies_2', 'directors': ['McG'], 'fullplot': 'The captivating crime-fighting trio who are the masters of disguise, espionage and martial arts. When a devious mastermind embroils them in a plot to destroy individual privacy the Angels, aided by their loyal sidekick Bosley, set out to bring down the bad guys. But when a terrible secret is revealed it makes the Angels targets for assassination.', 'genres': ['Action', 'Adventure', 'Comedy'], 'imdb': {'id': 160127, 'rating': 5.5, 'votes': 136579}, 'languages': ['English', 'German', 'Finnish', 'Japanese', 'Cantonese'], 'num_mflix_comments': 111, 'plot': 'Three women, detectives with a mysterious boss, retrieve stolen voice-ID software, using martial arts, tech skills, and sex appeal.', 'poster': 'https://m.media-amazon.com/images/M/MV5BMGI1NTM5MTItNDcxMS00YTIwLTg1NjUtNzE5ZGE5NDkxMmU4XkEyXkFqcGdeQXVyMTQxNzMzNDI@._V1_SY1000_SX677_AL_.jpg', 'title': \"Charlie's Angels\", 'writers': ['Ryan Rowe', 'Ed Solomon', 'John August', 'Ivan Goff (TV series)', 'Ben Roberts (TV series)']}, vector=None, shard_key=None),\n",
       " ScoredPoint(id=1334, version=0, score=0.8187186, payload={'awards': {'nominations': 1, 'text': '1 win & 1 nomination.', 'wins': 1}, 'cast': ['Cyril Raffaelli', 'David Belle', \"Tony D'Amario\", 'Bibi Naceri'], 'countries': ['France'], 'dataset': 'mongoDB_embedded_movies_2', 'directors': ['Pierre Morel'], 'fullplot': 'In the near future, the worst ghettos of Paris, France are literally walled off and among the worst is District B13. Controlled by the ruthless crime lord, Taha, a young righteous punk named Leèto is determined to bring him down. When the boss retaliates by kidnapping his sister, Lola, a rescue attempt by Leèto is destroyed by betrayal that gets him arrested and Lola kept in the clutches in Taha. Six months later, a crackerjack undercover cop named Damien is given a urgent mission: a neutron bomb has been stolen by Taha in District B13 which has an automatic timer function engaged and set to detonate in less than 24 hours. Now with time running out, Damien and Leèto must work together to find and stop the bomb, but there is far more to this crisis than any of the field players realize.', 'genres': ['Action', 'Crime', 'Thriller'], 'imdb': {'id': 414852, 'rating': 7.2, 'votes': 52433}, 'languages': ['French', 'Spanish'], 'num_mflix_comments': 0, 'plot': 'Set in the ghettos of Paris in 2010, an undercover cop and ex-thug try to infiltrate a gang in order to defuse a neutron bomb.', 'poster': 'https://m.media-amazon.com/images/M/MV5BM2U4YmU4NWYtYzZkOC00MTY5LThjMzMtZDQ3ZTMzMTM0ODg2XkEyXkFqcGdeQXVyODIyOTEyMzY@._V1_SY1000_SX677_AL_.jpg', 'title': 'District B13', 'writers': ['Luc Besson', 'Bibi Naceri']}, vector=None, shard_key=None),\n",
       " ScoredPoint(id=937, version=0, score=0.8179654, payload={'awards': {'nominations': 7, 'text': '1 win & 7 nominations.', 'wins': 1}, 'cast': ['Forest Whitaker', 'John Tormey', 'Cliff Gorman', 'Dennis Liu'], 'countries': ['France', 'Germany', 'USA', 'Japan'], 'dataset': 'mongoDB_embedded_movies_2', 'directors': ['Jim Jarmusch'], 'fullplot': \"A hitman who lives by the code of the samurai, works for the mafia and finds himself in their crosshairs when his recent job doesn't go according to plan. Now he must find a way to defend himself and his honor while retaining the code he lives by.\", 'genres': ['Action', 'Crime', 'Drama'], 'imdb': {'id': 165798, 'rating': 7.6, 'votes': 66414}, 'languages': ['English', 'French'], 'num_mflix_comments': 0, 'plot': 'An African American mafia hit man who models himself after the samurai of old finds himself targeted for death by the mob.', 'poster': 'https://m.media-amazon.com/images/M/MV5BZWQxZTJmN2YtMjdmMS00ZTFmLTk5ZDYtODA4ZDA1YWQ2MjMyL2ltYWdlL2ltYWdlXkEyXkFqcGdeQXVyNjU0OTQ0OTY@._V1_SY1000_SX677_AL_.jpg', 'title': 'Ghost Dog: The Way of the Samurai', 'writers': ['Jim Jarmusch']}, vector=None, shard_key=None),\n",
       " ScoredPoint(id=874, version=0, score=0.8179654, payload={'awards': {'nominations': 7, 'text': '1 win & 7 nominations.', 'wins': 1}, 'cast': ['Forest Whitaker', 'John Tormey', 'Cliff Gorman', 'Dennis Liu'], 'countries': ['France', 'Germany', 'USA', 'Japan'], 'dataset': 'mongoDB_embedded_movies_2', 'directors': ['Jim Jarmusch'], 'fullplot': \"A hitman who lives by the code of the samurai, works for the mafia and finds himself in their crosshairs when his recent job doesn't go according to plan. Now he must find a way to defend himself and his honor while retaining the code he lives by.\", 'genres': ['Action', 'Crime', 'Drama'], 'imdb': {'id': 165798, 'rating': 7.6, 'votes': 66591}, 'languages': ['English', 'French'], 'num_mflix_comments': 0, 'plot': 'An African American mafia hit man who models himself after the samurai of old finds himself targeted for death by the mob.', 'poster': 'https://m.media-amazon.com/images/M/MV5BZWQxZTJmN2YtMjdmMS00ZTFmLTk5ZDYtODA4ZDA1YWQ2MjMyL2ltYWdlL2ltYWdlXkEyXkFqcGdeQXVyNjU0OTQ0OTY@._V1_SY1000_SX677_AL_.jpg', 'title': 'Ghost Dog: The Way of the Samurai', 'writers': ['Jim Jarmusch']}, vector=None, shard_key=None),\n",
       " ScoredPoint(id=1387, version=0, score=0.8158515, payload={'awards': {'nominations': 35, 'text': 'Won 3 Oscars. Another 25 wins & 35 nominations.', 'wins': 28}, 'cast': ['Matt Damon', 'Julia Stiles', 'David Strathairn', 'Scott Glenn'], 'countries': ['USA', 'Germany'], 'dataset': 'mongoDB_embedded_movies_2', 'directors': ['Paul Greengrass'], 'fullplot': \"Bourne is once again brought out of hiding, this time inadvertently by London-based reporter Simon Ross who is trying to unveil Operation Blackbriar--an upgrade to Project Treadstone--in a series of newspaper columns. Bourne sets up a meeting with Ross and realizes instantly they're being scanned. Information from the reporter stirs a new set of memories, and Bourne must finally, ultimately, uncover his dark past whilst dodging The Company's best efforts in trying to eradicate him.\", 'genres': ['Action', 'Thriller'], 'imdb': {'id': 440963, 'rating': 8.1, 'votes': 436387}, 'languages': ['English', 'French', 'Arabic', 'Russian', 'Spanish'], 'num_mflix_comments': 140, 'plot': 'Jason Bourne dodges a ruthless CIA official and his agents from a new assassination program while searching for the origins of his life as a trained killer.', 'poster': 'https://m.media-amazon.com/images/M/MV5BNGNiNmU2YTMtZmU4OS00MjM0LTlmYWUtMjVlYjAzYjE2N2RjXkEyXkFqcGdeQXVyNDk3NzU2MTQ@._V1_SY1000_SX677_AL_.jpg', 'title': 'The Bourne Ultimatum', 'writers': ['Tony Gilroy (screenplay)', 'Scott Z. Burns (screenplay)', 'George Nolfi (screenplay)', 'Tony Gilroy (screen story)', 'Robert Ludlum (novel)']}, vector=None, shard_key=None),\n",
       " ScoredPoint(id=896, version=0, score=0.8148739, payload={'awards': {'nominations': 17, 'text': '2 wins & 17 nominations.', 'wins': 2}, 'cast': ['Arnold Schwarzenegger', 'Nick Stahl', 'Claire Danes', 'Kristanna Loken'], 'countries': ['USA', 'Germany', 'UK'], 'dataset': 'mongoDB_embedded_movies_2', 'directors': ['Jonathan Mostow'], 'fullplot': \"More than 10 years after 'Terminator 2', John Connor now exists only as a drifter - living 'off the grid', so no more Terminators from the future can hunt him down. Unfortunately, SkyNet does send another one back - and this one is called the T-X, even more powerful & advanced than the dreaded T-1000. However, another CSM-101 Terminator is also sent back to protect John against the T-X. Now, Skynet is patiently assuming control of civilian computer systems, under the guise of a computer virus. John has also met his future wife, Kate Brewster, whose father - a U.S. Air Force General - is in charge of the military computer systems & is leery of up linking SkyNet. However, when the SkyNet virus infects the U.S military computers & leaves the country open to attack, the machines begin their horrific takeover. Soon a nuclear war will result - and the war against the machines will begin. Can the outdated CSM-101 Terminator eliminate the highly advanced T-X - or will a darker future await man following the nuclear attack?\", 'genres': ['Action', 'Sci-Fi'], 'imdb': {'id': 181852, 'rating': 6.4, 'votes': 279627}, 'languages': ['English'], 'num_mflix_comments': 0, 'plot': 'A cybernetic warrior from a post-apocalyptic future travels back in time to protect a 19-year old drifter and his future wife from a most advanced robotic assassin and to ensure they both survive a nuclear attack.', 'poster': 'https://m.media-amazon.com/images/M/MV5BMTk5NzM1ODgyN15BMl5BanBnXkFtZTcwMzA5MjAzMw@@._V1_SY1000_SX677_AL_.jpg', 'title': 'Terminator 3: Rise of the Machines', 'writers': ['James Cameron (characters)', 'Gale Anne Hurd (characters)', 'John D. Brancato (story)', 'Michael Ferris (story)', 'Tedi Sarafian (story)', 'John D. Brancato (screenplay)', 'Michael Ferris (screenplay)']}, vector=None, shard_key=None)]"
      ]
     },
     "execution_count": 25,
     "metadata": {},
     "output_type": "execute_result"
    }
   ],
   "source": [
    "response = client.search(\n",
    "    collection_name=\"mongoDB_embedded_movies_collection\",\n",
    "    query_filter=models.Filter(\n",
    "        must=[\n",
    "            models.FieldCondition(\n",
    "                key=\"dataset\",\n",
    "                match=models.MatchValue(\n",
    "                    value=\"mongoDB_embedded_movies_2\",\n",
    "                ),\n",
    "            )\n",
    "        ]\n",
    "    ),\n",
    "    query_vector= (\"plot_embedding\", query_vector, ),\n",
    "    limit=10,\n",
    ")\n",
    "\n",
    "response"
   ]
  },
  {
   "cell_type": "code",
   "execution_count": 26,
   "metadata": {},
   "outputs": [
    {
     "name": "stdout",
     "output_type": "stream",
     "text": [
      "mongoDB_embedded_movies_2\n",
      "mongoDB_embedded_movies_2\n",
      "mongoDB_embedded_movies_2\n",
      "mongoDB_embedded_movies_2\n",
      "mongoDB_embedded_movies_2\n",
      "mongoDB_embedded_movies_2\n",
      "mongoDB_embedded_movies_2\n",
      "mongoDB_embedded_movies_2\n",
      "mongoDB_embedded_movies_2\n",
      "mongoDB_embedded_movies_2\n"
     ]
    }
   ],
   "source": [
    "for r in response:\n",
    "    print(r.payload[\"dataset\"])"
   ]
  },
  {
   "cell_type": "code",
   "execution_count": null,
   "metadata": {},
   "outputs": [],
   "source": []
  }
 ],
 "metadata": {
  "kernelspec": {
   "display_name": ".venv",
   "language": "python",
   "name": "python3"
  },
  "language_info": {
   "codemirror_mode": {
    "name": "ipython",
    "version": 3
   },
   "file_extension": ".py",
   "mimetype": "text/x-python",
   "name": "python",
   "nbconvert_exporter": "python",
   "pygments_lexer": "ipython3",
   "version": "3.10.12"
  }
 },
 "nbformat": 4,
 "nbformat_minor": 2
}
